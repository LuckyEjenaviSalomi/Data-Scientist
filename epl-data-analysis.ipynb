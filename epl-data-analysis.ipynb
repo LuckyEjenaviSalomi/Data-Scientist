{
 "cells": [
  {
   "cell_type": "markdown",
   "id": "c7855808",
   "metadata": {
    "papermill": {
     "duration": 0.004262,
     "end_time": "2024-06-21T13:28:18.318362",
     "exception": false,
     "start_time": "2024-06-21T13:28:18.314100",
     "status": "completed"
    },
    "tags": []
   },
   "source": [
    "# English Premiership League 2020/21 Total Goals Scored Visualization"
   ]
  },
  {
   "cell_type": "markdown",
   "id": "e8c459a2",
   "metadata": {
    "papermill": {
     "duration": 0.003425,
     "end_time": "2024-06-21T13:28:18.325967",
     "exception": false,
     "start_time": "2024-06-21T13:28:18.322542",
     "status": "completed"
    },
    "tags": []
   },
   "source": [
    "## Import Required Libraries"
   ]
  },
  {
   "cell_type": "code",
   "execution_count": 1,
   "id": "953dc714",
   "metadata": {
    "_cell_guid": "b1076dfc-b9ad-4769-8c92-a6c4dae69d19",
    "_uuid": "8f2839f25d086af736a60e9eeb907d3b93b6e0e5",
    "execution": {
     "iopub.execute_input": "2024-06-21T13:28:18.334803Z",
     "iopub.status.busy": "2024-06-21T13:28:18.334420Z",
     "iopub.status.idle": "2024-06-21T13:28:20.279315Z",
     "shell.execute_reply": "2024-06-21T13:28:20.278327Z"
    },
    "papermill": {
     "duration": 1.953125,
     "end_time": "2024-06-21T13:28:20.282721",
     "exception": false,
     "start_time": "2024-06-21T13:28:18.329596",
     "status": "completed"
    },
    "tags": []
   },
   "outputs": [],
   "source": [
    "import numpy as np # linear algebra\n",
    "import pandas as pd # data processing, CSV file I/O (e.g. pd.read_csv)\n",
    "\n",
    "import matplotlib.pyplot as plt # plotting library\n",
    "import seaborn as sns # high-level visualization library\n",
    "\n",
    "# suppress warnings\n",
    "import warnings\n",
    "warnings.filterwarnings('ignore')"
   ]
  },
  {
   "cell_type": "markdown",
   "id": "2e598d3c",
   "metadata": {
    "papermill": {
     "duration": 0.003445,
     "end_time": "2024-06-21T13:28:20.290220",
     "exception": false,
     "start_time": "2024-06-21T13:28:20.286775",
     "status": "completed"
    },
    "tags": []
   },
   "source": [
    "## Get file path"
   ]
  },
  {
   "cell_type": "code",
   "execution_count": 2,
   "id": "b71a4a52",
   "metadata": {
    "execution": {
     "iopub.execute_input": "2024-06-21T13:28:20.299881Z",
     "iopub.status.busy": "2024-06-21T13:28:20.298868Z",
     "iopub.status.idle": "2024-06-21T13:28:20.313360Z",
     "shell.execute_reply": "2024-06-21T13:28:20.312313Z"
    },
    "papermill": {
     "duration": 0.021877,
     "end_time": "2024-06-21T13:28:20.315769",
     "exception": false,
     "start_time": "2024-06-21T13:28:20.293892",
     "status": "completed"
    },
    "tags": []
   },
   "outputs": [],
   "source": [
    "file = \"\"\n",
    "import os\n",
    "for dirname, _, filenames in os.walk('/kaggle/input'):\n",
    "    for filename in filenames:\n",
    "        file = os.path.join(dirname, filename)"
   ]
  },
  {
   "cell_type": "markdown",
   "id": "0dd95f1c",
   "metadata": {
    "papermill": {
     "duration": 0.003565,
     "end_time": "2024-06-21T13:28:20.323202",
     "exception": false,
     "start_time": "2024-06-21T13:28:20.319637",
     "status": "completed"
    },
    "tags": []
   },
   "source": [
    "## Read Data"
   ]
  },
  {
   "cell_type": "code",
   "execution_count": 3,
   "id": "57bac862",
   "metadata": {
    "execution": {
     "iopub.execute_input": "2024-06-21T13:28:20.332468Z",
     "iopub.status.busy": "2024-06-21T13:28:20.331792Z",
     "iopub.status.idle": "2024-06-21T13:28:21.322508Z",
     "shell.execute_reply": "2024-06-21T13:28:21.321435Z"
    },
    "papermill": {
     "duration": 0.998109,
     "end_time": "2024-06-21T13:28:21.324974",
     "exception": false,
     "start_time": "2024-06-21T13:28:20.326865",
     "status": "completed"
    },
    "tags": []
   },
   "outputs": [],
   "source": [
    "data = pd.read_excel(file)"
   ]
  },
  {
   "cell_type": "code",
   "execution_count": 4,
   "id": "bec59510",
   "metadata": {
    "execution": {
     "iopub.execute_input": "2024-06-21T13:28:21.334626Z",
     "iopub.status.busy": "2024-06-21T13:28:21.333705Z",
     "iopub.status.idle": "2024-06-21T13:28:21.373142Z",
     "shell.execute_reply": "2024-06-21T13:28:21.372138Z"
    },
    "papermill": {
     "duration": 0.046563,
     "end_time": "2024-06-21T13:28:21.375411",
     "exception": false,
     "start_time": "2024-06-21T13:28:21.328848",
     "status": "completed"
    },
    "tags": []
   },
   "outputs": [
    {
     "data": {
      "text/html": [
       "<div>\n",
       "<style scoped>\n",
       "    .dataframe tbody tr th:only-of-type {\n",
       "        vertical-align: middle;\n",
       "    }\n",
       "\n",
       "    .dataframe tbody tr th {\n",
       "        vertical-align: top;\n",
       "    }\n",
       "\n",
       "    .dataframe thead th {\n",
       "        text-align: right;\n",
       "    }\n",
       "</style>\n",
       "<table border=\"1\" class=\"dataframe\">\n",
       "  <thead>\n",
       "    <tr style=\"text-align: right;\">\n",
       "      <th></th>\n",
       "      <th>Div</th>\n",
       "      <th>Date</th>\n",
       "      <th>Time</th>\n",
       "      <th>HomeTeam</th>\n",
       "      <th>AwayTeam</th>\n",
       "      <th>FTHG</th>\n",
       "      <th>FTAG</th>\n",
       "      <th>FTR</th>\n",
       "      <th>HTHG</th>\n",
       "      <th>HTAG</th>\n",
       "      <th>...</th>\n",
       "      <th>AvgC&lt;2.5</th>\n",
       "      <th>AHCh</th>\n",
       "      <th>B365CAHH</th>\n",
       "      <th>B365CAHA</th>\n",
       "      <th>PCAHH</th>\n",
       "      <th>PCAHA</th>\n",
       "      <th>MaxCAHH</th>\n",
       "      <th>MaxCAHA</th>\n",
       "      <th>AvgCAHH</th>\n",
       "      <th>AvgCAHA</th>\n",
       "    </tr>\n",
       "  </thead>\n",
       "  <tbody>\n",
       "    <tr>\n",
       "      <th>0</th>\n",
       "      <td>E0</td>\n",
       "      <td>2020-09-12</td>\n",
       "      <td>12:30:00</td>\n",
       "      <td>Fulham</td>\n",
       "      <td>Arsenal</td>\n",
       "      <td>0</td>\n",
       "      <td>3</td>\n",
       "      <td>A</td>\n",
       "      <td>0</td>\n",
       "      <td>1</td>\n",
       "      <td>...</td>\n",
       "      <td>1.84</td>\n",
       "      <td>0.75</td>\n",
       "      <td>2.01</td>\n",
       "      <td>1.89</td>\n",
       "      <td>2.02</td>\n",
       "      <td>1.91</td>\n",
       "      <td>2.13</td>\n",
       "      <td>1.92</td>\n",
       "      <td>2.02</td>\n",
       "      <td>1.87</td>\n",
       "    </tr>\n",
       "    <tr>\n",
       "      <th>1</th>\n",
       "      <td>E0</td>\n",
       "      <td>2020-09-12</td>\n",
       "      <td>15:00:00</td>\n",
       "      <td>Crystal Palace</td>\n",
       "      <td>Southampton</td>\n",
       "      <td>1</td>\n",
       "      <td>0</td>\n",
       "      <td>H</td>\n",
       "      <td>1</td>\n",
       "      <td>0</td>\n",
       "      <td>...</td>\n",
       "      <td>1.70</td>\n",
       "      <td>0.25</td>\n",
       "      <td>1.78</td>\n",
       "      <td>2.13</td>\n",
       "      <td>1.79</td>\n",
       "      <td>2.17</td>\n",
       "      <td>1.85</td>\n",
       "      <td>2.18</td>\n",
       "      <td>1.79</td>\n",
       "      <td>2.12</td>\n",
       "    </tr>\n",
       "    <tr>\n",
       "      <th>2</th>\n",
       "      <td>E0</td>\n",
       "      <td>2020-09-12</td>\n",
       "      <td>17:30:00</td>\n",
       "      <td>Liverpool</td>\n",
       "      <td>Leeds</td>\n",
       "      <td>4</td>\n",
       "      <td>3</td>\n",
       "      <td>H</td>\n",
       "      <td>3</td>\n",
       "      <td>2</td>\n",
       "      <td>...</td>\n",
       "      <td>2.62</td>\n",
       "      <td>-1.50</td>\n",
       "      <td>1.85</td>\n",
       "      <td>2.05</td>\n",
       "      <td>1.85</td>\n",
       "      <td>2.08</td>\n",
       "      <td>1.90</td>\n",
       "      <td>2.16</td>\n",
       "      <td>1.84</td>\n",
       "      <td>2.04</td>\n",
       "    </tr>\n",
       "    <tr>\n",
       "      <th>3</th>\n",
       "      <td>E0</td>\n",
       "      <td>2020-09-12</td>\n",
       "      <td>20:00:00</td>\n",
       "      <td>West Ham</td>\n",
       "      <td>Newcastle</td>\n",
       "      <td>0</td>\n",
       "      <td>2</td>\n",
       "      <td>A</td>\n",
       "      <td>0</td>\n",
       "      <td>0</td>\n",
       "      <td>...</td>\n",
       "      <td>1.92</td>\n",
       "      <td>-0.50</td>\n",
       "      <td>2.03</td>\n",
       "      <td>1.87</td>\n",
       "      <td>2.04</td>\n",
       "      <td>1.88</td>\n",
       "      <td>2.09</td>\n",
       "      <td>1.91</td>\n",
       "      <td>2.02</td>\n",
       "      <td>1.86</td>\n",
       "    </tr>\n",
       "    <tr>\n",
       "      <th>4</th>\n",
       "      <td>E0</td>\n",
       "      <td>2020-09-13</td>\n",
       "      <td>14:00:00</td>\n",
       "      <td>West Brom</td>\n",
       "      <td>Leicester</td>\n",
       "      <td>0</td>\n",
       "      <td>3</td>\n",
       "      <td>A</td>\n",
       "      <td>0</td>\n",
       "      <td>0</td>\n",
       "      <td>...</td>\n",
       "      <td>1.73</td>\n",
       "      <td>0.25</td>\n",
       "      <td>1.92</td>\n",
       "      <td>1.98</td>\n",
       "      <td>1.93</td>\n",
       "      <td>1.99</td>\n",
       "      <td>1.95</td>\n",
       "      <td>2.01</td>\n",
       "      <td>1.91</td>\n",
       "      <td>1.97</td>\n",
       "    </tr>\n",
       "  </tbody>\n",
       "</table>\n",
       "<p>5 rows × 106 columns</p>\n",
       "</div>"
      ],
      "text/plain": [
       "  Div       Date      Time        HomeTeam     AwayTeam  FTHG  FTAG FTR  HTHG  \\\n",
       "0  E0 2020-09-12  12:30:00          Fulham      Arsenal     0     3   A     0   \n",
       "1  E0 2020-09-12  15:00:00  Crystal Palace  Southampton     1     0   H     1   \n",
       "2  E0 2020-09-12  17:30:00       Liverpool        Leeds     4     3   H     3   \n",
       "3  E0 2020-09-12  20:00:00        West Ham    Newcastle     0     2   A     0   \n",
       "4  E0 2020-09-13  14:00:00       West Brom    Leicester     0     3   A     0   \n",
       "\n",
       "   HTAG  ... AvgC<2.5  AHCh  B365CAHH  B365CAHA  PCAHH  PCAHA  MaxCAHH  \\\n",
       "0     1  ...     1.84  0.75      2.01      1.89   2.02   1.91     2.13   \n",
       "1     0  ...     1.70  0.25      1.78      2.13   1.79   2.17     1.85   \n",
       "2     2  ...     2.62 -1.50      1.85      2.05   1.85   2.08     1.90   \n",
       "3     0  ...     1.92 -0.50      2.03      1.87   2.04   1.88     2.09   \n",
       "4     0  ...     1.73  0.25      1.92      1.98   1.93   1.99     1.95   \n",
       "\n",
       "   MaxCAHA  AvgCAHH  AvgCAHA  \n",
       "0     1.92     2.02     1.87  \n",
       "1     2.18     1.79     2.12  \n",
       "2     2.16     1.84     2.04  \n",
       "3     1.91     2.02     1.86  \n",
       "4     2.01     1.91     1.97  \n",
       "\n",
       "[5 rows x 106 columns]"
      ]
     },
     "execution_count": 4,
     "metadata": {},
     "output_type": "execute_result"
    }
   ],
   "source": [
    "data.head()"
   ]
  },
  {
   "cell_type": "code",
   "execution_count": 5,
   "id": "72d06ea2",
   "metadata": {
    "execution": {
     "iopub.execute_input": "2024-06-21T13:28:21.385057Z",
     "iopub.status.busy": "2024-06-21T13:28:21.384718Z",
     "iopub.status.idle": "2024-06-21T13:28:21.391234Z",
     "shell.execute_reply": "2024-06-21T13:28:21.390258Z"
    },
    "papermill": {
     "duration": 0.013707,
     "end_time": "2024-06-21T13:28:21.393263",
     "exception": false,
     "start_time": "2024-06-21T13:28:21.379556",
     "status": "completed"
    },
    "tags": []
   },
   "outputs": [
    {
     "data": {
      "text/plain": [
       "Index(['HomeTeam', 'AwayTeam', 'FTHG', 'FTAG'], dtype='object')"
      ]
     },
     "execution_count": 5,
     "metadata": {},
     "output_type": "execute_result"
    }
   ],
   "source": [
    "# choose required columns\n",
    "select_columns = data.columns[3:7]\n",
    "select_columns"
   ]
  },
  {
   "cell_type": "code",
   "execution_count": 6,
   "id": "c4aa68d0",
   "metadata": {
    "execution": {
     "iopub.execute_input": "2024-06-21T13:28:21.403347Z",
     "iopub.status.busy": "2024-06-21T13:28:21.402428Z",
     "iopub.status.idle": "2024-06-21T13:28:21.413284Z",
     "shell.execute_reply": "2024-06-21T13:28:21.412338Z"
    },
    "papermill": {
     "duration": 0.017996,
     "end_time": "2024-06-21T13:28:21.415351",
     "exception": false,
     "start_time": "2024-06-21T13:28:21.397355",
     "status": "completed"
    },
    "tags": []
   },
   "outputs": [
    {
     "data": {
      "text/html": [
       "<div>\n",
       "<style scoped>\n",
       "    .dataframe tbody tr th:only-of-type {\n",
       "        vertical-align: middle;\n",
       "    }\n",
       "\n",
       "    .dataframe tbody tr th {\n",
       "        vertical-align: top;\n",
       "    }\n",
       "\n",
       "    .dataframe thead th {\n",
       "        text-align: right;\n",
       "    }\n",
       "</style>\n",
       "<table border=\"1\" class=\"dataframe\">\n",
       "  <thead>\n",
       "    <tr style=\"text-align: right;\">\n",
       "      <th></th>\n",
       "      <th>HomeTeam</th>\n",
       "      <th>AwayTeam</th>\n",
       "      <th>FTHG</th>\n",
       "      <th>FTAG</th>\n",
       "    </tr>\n",
       "  </thead>\n",
       "  <tbody>\n",
       "    <tr>\n",
       "      <th>0</th>\n",
       "      <td>Fulham</td>\n",
       "      <td>Arsenal</td>\n",
       "      <td>0</td>\n",
       "      <td>3</td>\n",
       "    </tr>\n",
       "    <tr>\n",
       "      <th>1</th>\n",
       "      <td>Crystal Palace</td>\n",
       "      <td>Southampton</td>\n",
       "      <td>1</td>\n",
       "      <td>0</td>\n",
       "    </tr>\n",
       "    <tr>\n",
       "      <th>2</th>\n",
       "      <td>Liverpool</td>\n",
       "      <td>Leeds</td>\n",
       "      <td>4</td>\n",
       "      <td>3</td>\n",
       "    </tr>\n",
       "    <tr>\n",
       "      <th>3</th>\n",
       "      <td>West Ham</td>\n",
       "      <td>Newcastle</td>\n",
       "      <td>0</td>\n",
       "      <td>2</td>\n",
       "    </tr>\n",
       "    <tr>\n",
       "      <th>4</th>\n",
       "      <td>West Brom</td>\n",
       "      <td>Leicester</td>\n",
       "      <td>0</td>\n",
       "      <td>3</td>\n",
       "    </tr>\n",
       "  </tbody>\n",
       "</table>\n",
       "</div>"
      ],
      "text/plain": [
       "         HomeTeam     AwayTeam  FTHG  FTAG\n",
       "0          Fulham      Arsenal     0     3\n",
       "1  Crystal Palace  Southampton     1     0\n",
       "2       Liverpool        Leeds     4     3\n",
       "3        West Ham    Newcastle     0     2\n",
       "4       West Brom    Leicester     0     3"
      ]
     },
     "execution_count": 6,
     "metadata": {},
     "output_type": "execute_result"
    }
   ],
   "source": [
    "new_data = data[select_columns]\n",
    "new_data.head()"
   ]
  },
  {
   "cell_type": "markdown",
   "id": "f0b236a6",
   "metadata": {
    "papermill": {
     "duration": 0.004045,
     "end_time": "2024-06-21T13:28:21.423838",
     "exception": false,
     "start_time": "2024-06-21T13:28:21.419793",
     "status": "completed"
    },
    "tags": []
   },
   "source": [
    "## Get combination of team play home and away"
   ]
  },
  {
   "cell_type": "code",
   "execution_count": 7,
   "id": "0465a87e",
   "metadata": {
    "execution": {
     "iopub.execute_input": "2024-06-21T13:28:21.434350Z",
     "iopub.status.busy": "2024-06-21T13:28:21.433459Z",
     "iopub.status.idle": "2024-06-21T13:28:21.439011Z",
     "shell.execute_reply": "2024-06-21T13:28:21.438060Z"
    },
    "papermill": {
     "duration": 0.013112,
     "end_time": "2024-06-21T13:28:21.441195",
     "exception": false,
     "start_time": "2024-06-21T13:28:21.428083",
     "status": "completed"
    },
    "tags": []
   },
   "outputs": [],
   "source": [
    "clubs = pd.concat([new_data['HomeTeam'], new_data['AwayTeam']], axis=0)"
   ]
  },
  {
   "cell_type": "markdown",
   "id": "eacd5ed2",
   "metadata": {
    "papermill": {
     "duration": 0.004034,
     "end_time": "2024-06-21T13:28:21.449704",
     "exception": false,
     "start_time": "2024-06-21T13:28:21.445670",
     "status": "completed"
    },
    "tags": []
   },
   "source": [
    "## Create Premier League Table"
   ]
  },
  {
   "cell_type": "code",
   "execution_count": 8,
   "id": "3de9eedf",
   "metadata": {
    "execution": {
     "iopub.execute_input": "2024-06-21T13:28:21.460136Z",
     "iopub.status.busy": "2024-06-21T13:28:21.459412Z",
     "iopub.status.idle": "2024-06-21T13:28:21.479792Z",
     "shell.execute_reply": "2024-06-21T13:28:21.478685Z"
    },
    "papermill": {
     "duration": 0.027903,
     "end_time": "2024-06-21T13:28:21.481884",
     "exception": false,
     "start_time": "2024-06-21T13:28:21.453981",
     "status": "completed"
    },
    "tags": []
   },
   "outputs": [
    {
     "data": {
      "text/html": [
       "<div>\n",
       "<style scoped>\n",
       "    .dataframe tbody tr th:only-of-type {\n",
       "        vertical-align: middle;\n",
       "    }\n",
       "\n",
       "    .dataframe tbody tr th {\n",
       "        vertical-align: top;\n",
       "    }\n",
       "\n",
       "    .dataframe thead th {\n",
       "        text-align: right;\n",
       "    }\n",
       "</style>\n",
       "<table border=\"1\" class=\"dataframe\">\n",
       "  <thead>\n",
       "    <tr style=\"text-align: right;\">\n",
       "      <th></th>\n",
       "      <th>club</th>\n",
       "      <th>played</th>\n",
       "      <th>Won</th>\n",
       "      <th>Drawn</th>\n",
       "      <th>Lost</th>\n",
       "      <th>GF</th>\n",
       "      <th>GA</th>\n",
       "      <th>GD</th>\n",
       "      <th>Points</th>\n",
       "    </tr>\n",
       "  </thead>\n",
       "  <tbody>\n",
       "    <tr>\n",
       "      <th>0</th>\n",
       "      <td>Fulham</td>\n",
       "      <td>38</td>\n",
       "      <td>0</td>\n",
       "      <td>0</td>\n",
       "      <td>0</td>\n",
       "      <td>0</td>\n",
       "      <td>0</td>\n",
       "      <td>0</td>\n",
       "      <td>0</td>\n",
       "    </tr>\n",
       "    <tr>\n",
       "      <th>1</th>\n",
       "      <td>Crystal Palace</td>\n",
       "      <td>38</td>\n",
       "      <td>0</td>\n",
       "      <td>0</td>\n",
       "      <td>0</td>\n",
       "      <td>0</td>\n",
       "      <td>0</td>\n",
       "      <td>0</td>\n",
       "      <td>0</td>\n",
       "    </tr>\n",
       "    <tr>\n",
       "      <th>2</th>\n",
       "      <td>Burnley</td>\n",
       "      <td>38</td>\n",
       "      <td>0</td>\n",
       "      <td>0</td>\n",
       "      <td>0</td>\n",
       "      <td>0</td>\n",
       "      <td>0</td>\n",
       "      <td>0</td>\n",
       "      <td>0</td>\n",
       "    </tr>\n",
       "    <tr>\n",
       "      <th>3</th>\n",
       "      <td>Wolves</td>\n",
       "      <td>38</td>\n",
       "      <td>0</td>\n",
       "      <td>0</td>\n",
       "      <td>0</td>\n",
       "      <td>0</td>\n",
       "      <td>0</td>\n",
       "      <td>0</td>\n",
       "      <td>0</td>\n",
       "    </tr>\n",
       "    <tr>\n",
       "      <th>4</th>\n",
       "      <td>Aston Villa</td>\n",
       "      <td>38</td>\n",
       "      <td>0</td>\n",
       "      <td>0</td>\n",
       "      <td>0</td>\n",
       "      <td>0</td>\n",
       "      <td>0</td>\n",
       "      <td>0</td>\n",
       "      <td>0</td>\n",
       "    </tr>\n",
       "  </tbody>\n",
       "</table>\n",
       "</div>"
      ],
      "text/plain": [
       "             club  played  Won  Drawn  Lost  GF  GA  GD  Points\n",
       "0          Fulham      38    0      0     0   0   0   0       0\n",
       "1  Crystal Palace      38    0      0     0   0   0   0       0\n",
       "2         Burnley      38    0      0     0   0   0   0       0\n",
       "3          Wolves      38    0      0     0   0   0   0       0\n",
       "4     Aston Villa      38    0      0     0   0   0   0       0"
      ]
     },
     "execution_count": 8,
     "metadata": {},
     "output_type": "execute_result"
    }
   ],
   "source": [
    "table = pd.DataFrame(zip(clubs.value_counts().index, clubs.value_counts().values), columns=['club', 'played'])\n",
    "\n",
    "# Add other columns as placeholders\n",
    "other_columns = [\"Won\", \"Drawn\", \"Lost\", \"GF\", \"GA\", \"GD\", \"Points\"]\n",
    "for col in other_columns:\n",
    "    table[col] = 0\n",
    "    \n",
    "table.head()"
   ]
  },
  {
   "cell_type": "code",
   "execution_count": null,
   "id": "573f1515",
   "metadata": {
    "papermill": {
     "duration": 0.004284,
     "end_time": "2024-06-21T13:28:21.490768",
     "exception": false,
     "start_time": "2024-06-21T13:28:21.486484",
     "status": "completed"
    },
    "tags": []
   },
   "outputs": [],
   "source": []
  }
 ],
 "metadata": {
  "kaggle": {
   "accelerator": "none",
   "dataSources": [
    {
     "datasetId": 5247674,
     "sourceId": 8740537,
     "sourceType": "datasetVersion"
    }
   ],
   "dockerImageVersionId": 30732,
   "isGpuEnabled": false,
   "isInternetEnabled": true,
   "language": "python",
   "sourceType": "notebook"
  },
  "kernelspec": {
   "display_name": "Python 3",
   "language": "python",
   "name": "python3"
  },
  "language_info": {
   "codemirror_mode": {
    "name": "ipython",
    "version": 3
   },
   "file_extension": ".py",
   "mimetype": "text/x-python",
   "name": "python",
   "nbconvert_exporter": "python",
   "pygments_lexer": "ipython3",
   "version": "3.10.13"
  },
  "papermill": {
   "default_parameters": {},
   "duration": 6.495263,
   "end_time": "2024-06-21T13:28:22.116481",
   "environment_variables": {},
   "exception": null,
   "input_path": "__notebook__.ipynb",
   "output_path": "__notebook__.ipynb",
   "parameters": {},
   "start_time": "2024-06-21T13:28:15.621218",
   "version": "2.5.0"
  }
 },
 "nbformat": 4,
 "nbformat_minor": 5
}
